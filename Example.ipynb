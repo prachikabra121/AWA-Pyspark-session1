{
 "cells": [
  {
   "cell_type": "code",
   "execution_count": 0,
   "metadata": {
    "application/vnd.databricks.v1+cell": {
     "cellMetadata": {
      "byteLimit": 2048000,
      "rowLimit": 10000
     },
     "inputWidgets": {},
     "nuid": "0f03d5f8-9da6-47e6-acf6-3c281a3910a7",
     "showTitle": false,
     "tableResultSettingsMap": {},
     "title": ""
    }
   },
   "outputs": [
    {
     "output_type": "display_data",
     "data": {
      "application/vnd.databricks.v1+bamboolib_hint": "{\"pd.DataFrames\": [], \"version\": \"0.0.1\"}",
      "text/plain": []
     },
     "metadata": {},
     "output_type": "display_data"
    },
    {
     "output_type": "stream",
     "name": "stdout",
     "output_type": "stream",
     "text": [
      "   ID     Name\n0   1    Alice\n1   2      Bob\n2   3  Charlie\n"
     ]
    }
   ],
   "source": [
    "import pandas as pd\n",
    "\n",
    "data = {'ID': [1, 2, 3], 'Name': ['Alice', 'Bob', 'Charlie']}\n",
    "df = pd.DataFrame(data)\n",
    "print(df)\n"
   ]
  },
  {
   "cell_type": "code",
   "execution_count": 0,
   "metadata": {
    "application/vnd.databricks.v1+cell": {
     "cellMetadata": {
      "byteLimit": 2048000,
      "rowLimit": 10000
     },
     "inputWidgets": {},
     "nuid": "cb1b6f83-395c-4c6f-aa2c-b88d4c960259",
     "showTitle": false,
     "tableResultSettingsMap": {},
     "title": ""
    }
   },
   "outputs": [
    {
     "output_type": "stream",
     "name": "stdout",
     "output_type": "stream",
     "text": [
      "Unexpected exception formatting exception. Falling back to standard exception\n"
     ]
    },
    {
     "output_type": "stream",
     "name": "stderr",
     "output_type": "stream",
     "text": [
      "Traceback (most recent call last):\n  File \"/databricks/python/lib/python3.9/site-packages/IPython/core/interactiveshell.py\", line 3378, in run_code\n    exec(code_obj, self.user_global_ns, self.user_ns)\n  File \"<command-1321006459478137>\", line 2, in <module>\n    df = pd.read_csv(\"/dbfs/tmp/data_copy.csv\")\n  File \"/databricks/python/lib/python3.9/site-packages/pandas/util/_decorators.py\", line 311, in wrapper\n    return func(*args, **kwargs)\n  File \"/databricks/python/lib/python3.9/site-packages/pandas/io/parsers/readers.py\", line 680, in read_csv\n    return _read(filepath_or_buffer, kwds)\n  File \"/databricks/python/lib/python3.9/site-packages/pandas/io/parsers/readers.py\", line 575, in _read\n    parser = TextFileReader(filepath_or_buffer, **kwds)\n  File \"/databricks/python/lib/python3.9/site-packages/pandas/io/parsers/readers.py\", line 933, in __init__\n    self._engine = self._make_engine(f, self.engine)\n  File \"/databricks/python/lib/python3.9/site-packages/pandas/io/parsers/readers.py\", line 1217, in _make_engine\n    self.handles = get_handle(  # type: ignore[call-overload]\n  File \"/databricks/python/lib/python3.9/site-packages/pandas/io/common.py\", line 789, in get_handle\n    handle = open(\nFileNotFoundError: [Errno 2] No such file or directory: '/dbfs/tmp/data_copy.csv'\n\nDuring handling of the above exception, another exception occurred:\n\nTraceback (most recent call last):\n  File \"/databricks/python/lib/python3.9/site-packages/IPython/core/interactiveshell.py\", line 1997, in showtraceback\n    stb = self.InteractiveTB.structured_traceback(\n  File \"/databricks/python/lib/python3.9/site-packages/IPython/core/ultratb.py\", line 1112, in structured_traceback\n    return FormattedTB.structured_traceback(\n  File \"/databricks/python/lib/python3.9/site-packages/IPython/core/ultratb.py\", line 1006, in structured_traceback\n    return VerboseTB.structured_traceback(\n  File \"/databricks/python/lib/python3.9/site-packages/IPython/core/ultratb.py\", line 859, in structured_traceback\n    formatted_exception = self.format_exception_as_a_whole(etype, evalue, etb, number_of_lines_of_context,\n  File \"/databricks/python/lib/python3.9/site-packages/IPython/core/ultratb.py\", line 812, in format_exception_as_a_whole\n    frames.append(self.format_record(r))\n  File \"/databricks/python/lib/python3.9/site-packages/IPython/core/ultratb.py\", line 730, in format_record\n    result += ''.join(_format_traceback_lines(frame_info.lines, Colors, self.has_colors, lvals))\n  File \"/databricks/python/lib/python3.9/site-packages/stack_data/utils.py\", line 145, in cached_property_wrapper\n    value = obj.__dict__[self.func.__name__] = self.func(obj)\n  File \"/databricks/python/lib/python3.9/site-packages/stack_data/core.py\", line 698, in lines\n    pieces = self.included_pieces\n  File \"/databricks/python/lib/python3.9/site-packages/stack_data/utils.py\", line 145, in cached_property_wrapper\n    value = obj.__dict__[self.func.__name__] = self.func(obj)\n  File \"/databricks/python/lib/python3.9/site-packages/stack_data/core.py\", line 649, in included_pieces\n    pos = scope_pieces.index(self.executing_piece)\n  File \"/databricks/python/lib/python3.9/site-packages/stack_data/utils.py\", line 145, in cached_property_wrapper\n    value = obj.__dict__[self.func.__name__] = self.func(obj)\n  File \"/databricks/python/lib/python3.9/site-packages/stack_data/core.py\", line 628, in executing_piece\n    return only(\n  File \"/databricks/python/lib/python3.9/site-packages/executing/executing.py\", line 164, in only\n    raise NotOneValueFound('Expected one value, found 0')\nexecuting.executing.NotOneValueFound: Expected one value, found 0\n"
     ]
    },
    {
     "output_type": "display_data",
     "data": {
      "text/plain": [
       ""
      ]
     },
     "metadata": {
      "application/vnd.databricks.v1+output": {
       "arguments": {},
       "data": "",
       "errorSummary": "<span class='ansi-red-fg'>FileNotFoundError</span>: [Errno 2] No such file or directory: '/dbfs/tmp/data_copy.csv'",
       "errorTraceType": "ansi",
       "metadata": {},
       "type": "ipynbError"
      }
     },
     "output_type": "display_data"
    }
   ],
   "source": [
    "#Pandas cannot read dbfs:/ paths\n",
    "import pandas as pd\n",
    "df = pd.read_csv(\"/dbfs/tmp/data_copy.csv\")\n",
    "df.head()\n"
   ]
  },
  {
   "cell_type": "code",
   "execution_count": 0,
   "metadata": {
    "application/vnd.databricks.v1+cell": {
     "cellMetadata": {
      "byteLimit": 2048000,
      "rowLimit": 10000
     },
     "inputWidgets": {},
     "nuid": "929e1b66-69a9-45d1-9f97-9217c9a78182",
     "showTitle": false,
     "tableResultSettingsMap": {},
     "title": ""
    }
   },
   "outputs": [
    {
     "output_type": "display_data",
     "data": {
      "text/html": [
       "<style scoped>\n",
       "  .table-result-container {\n",
       "    max-height: 300px;\n",
       "    overflow: auto;\n",
       "  }\n",
       "  table, th, td {\n",
       "    border: 1px solid black;\n",
       "    border-collapse: collapse;\n",
       "  }\n",
       "  th, td {\n",
       "    padding: 5px;\n",
       "  }\n",
       "  th {\n",
       "    text-align: left;\n",
       "  }\n",
       "</style><div class='table-result-container'><table class='table-result'><thead style='background-color: white'><tr><th>path</th><th>name</th><th>size</th><th>modificationTime</th></tr></thead><tbody><tr><td>dbfs:/FileStore/tables/1234567890_20241110_CUST00123456789.txt</td><td>1234567890_20241110_CUST00123456789.txt</td><td>333</td><td>1731925898000</td></tr><tr><td>dbfs:/FileStore/tables/BigMart_Sales.csv</td><td>BigMart_Sales.csv</td><td>869537</td><td>1731579566000</td></tr><tr><td>dbfs:/FileStore/tables/END_File_notExist.xlsx</td><td>END_File_notExist.xlsx</td><td>2950</td><td>1731994830000</td></tr><tr><td>dbfs:/FileStore/tables/R520000220240201120001_2024020112050021076</td><td>R520000220240201120001_2024020112050021076</td><td>1343680</td><td>1731588878000</td></tr><tr><td>dbfs:/FileStore/tables/R520000220240201120001_2024020112050021076-1.gz</td><td>R520000220240201120001_2024020112050021076-1.gz</td><td>78558</td><td>1731914804000</td></tr><tr><td>dbfs:/FileStore/tables/R520000220240201120001_2024020112050021076.gz</td><td>R520000220240201120001_2024020112050021076.gz</td><td>78558</td><td>1731914729000</td></tr><tr><td>dbfs:/FileStore/tables/R520000220240201170004_2024020117050024632.gz</td><td>R520000220240201170004_2024020117050024632.gz</td><td>66174</td><td>1731914799000</td></tr><tr><td>dbfs:/FileStore/tables/R520000320240201110000_202402011105005819.gz</td><td>R520000320240201110000_202402011105005819.gz</td><td>89914</td><td>1731914792000</td></tr><tr><td>dbfs:/FileStore/tables/R520000320240201120008_2024020112050021076.gz</td><td>R520000320240201120008_2024020112050021076.gz</td><td>139808</td><td>1731914786000</td></tr><tr><td>dbfs:/FileStore/tables/R520000320240201130008_202402011305002964.gz</td><td>R520000320240201130008_202402011305002964.gz</td><td>98294</td><td>1731914772000</td></tr><tr><td>dbfs:/FileStore/tables/R520000320240201140006_2024020114050016558.gz</td><td>R520000320240201140006_2024020114050016558.gz</td><td>86389</td><td>1731914765000</td></tr><tr><td>dbfs:/FileStore/tables/R520000320240201150003_2024020115050030666.gz</td><td>R520000320240201150003_2024020115050030666.gz</td><td>105</td><td>1731914759000</td></tr><tr><td>dbfs:/FileStore/tables/R520000320240201160002_2024020116050012283.gz</td><td>R520000320240201160002_2024020116050012283.gz</td><td>108693</td><td>1731914746000</td></tr><tr><td>dbfs:/FileStore/tables/R520000320240201170000_2024020117050024632.gz</td><td>R520000320240201170000_2024020117050024632.gz</td><td>90362</td><td>1731921727000</td></tr><tr><td>dbfs:/FileStore/tables/Schema-1.csv</td><td>Schema-1.csv</td><td>2093</td><td>1733914088000</td></tr><tr><td>dbfs:/FileStore/tables/Schema-1.xlsx</td><td>Schema-1.xlsx</td><td>11317</td><td>1733914044000</td></tr><tr><td>dbfs:/FileStore/tables/Schema.csv</td><td>Schema.csv</td><td>2093</td><td>1733825724000</td></tr><tr><td>dbfs:/FileStore/tables/Schema.xlsx</td><td>Schema.xlsx</td><td>11317</td><td>1733823865000</td></tr><tr><td>dbfs:/FileStore/tables/data_.csv</td><td>data_.csv</td><td>304</td><td>1740767690000</td></tr><tr><td>dbfs:/FileStore/tables/drivers.json</td><td>drivers.json</td><td>180812</td><td>1731581360000</td></tr><tr><td>dbfs:/FileStore/tables/extracted_data-1.xlsx</td><td>extracted_data-1.xlsx</td><td>11165</td><td>1731921737000</td></tr><tr><td>dbfs:/FileStore/tables/extracted_data-2.xlsx</td><td>extracted_data-2.xlsx</td><td>11165</td><td>1731923764000</td></tr><tr><td>dbfs:/FileStore/tables/extracted_data.xlsx</td><td>extracted_data.xlsx</td><td>11165</td><td>1731915955000</td></tr><tr><td>dbfs:/FileStore/tables/pos123_accessKeys.csv</td><td>pos123_accessKeys.csv</td><td>99</td><td>1733736395000</td></tr><tr><td>dbfs:/FileStore/tables/prachi123_accessKeys.csv</td><td>prachi123_accessKeys.csv</td><td>99</td><td>1733898617000</td></tr><tr><td>dbfs:/FileStore/tables/sales_data.parquet</td><td>sales_data.parquet</td><td>27539118</td><td>1732536444000</td></tr><tr><td>dbfs:/FileStore/tables/testuser_accessKeys.csv</td><td>testuser_accessKeys.csv</td><td>99</td><td>1733209590000</td></tr></tbody></table></div>"
      ]
     },
     "metadata": {
      "application/vnd.databricks.v1+output": {
       "addedWidgets": {},
       "aggData": [],
       "aggError": "",
       "aggOverflow": false,
       "aggSchema": [],
       "aggSeriesLimitReached": false,
       "aggType": "",
       "arguments": {},
       "columnCustomDisplayInfos": {},
       "data": [
        [
         "dbfs:/FileStore/tables/1234567890_20241110_CUST00123456789.txt",
         "1234567890_20241110_CUST00123456789.txt",
         333,
         1731925898000
        ],
        [
         "dbfs:/FileStore/tables/BigMart_Sales.csv",
         "BigMart_Sales.csv",
         869537,
         1731579566000
        ],
        [
         "dbfs:/FileStore/tables/END_File_notExist.xlsx",
         "END_File_notExist.xlsx",
         2950,
         1731994830000
        ],
        [
         "dbfs:/FileStore/tables/R520000220240201120001_2024020112050021076",
         "R520000220240201120001_2024020112050021076",
         1343680,
         1731588878000
        ],
        [
         "dbfs:/FileStore/tables/R520000220240201120001_2024020112050021076-1.gz",
         "R520000220240201120001_2024020112050021076-1.gz",
         78558,
         1731914804000
        ],
        [
         "dbfs:/FileStore/tables/R520000220240201120001_2024020112050021076.gz",
         "R520000220240201120001_2024020112050021076.gz",
         78558,
         1731914729000
        ],
        [
         "dbfs:/FileStore/tables/R520000220240201170004_2024020117050024632.gz",
         "R520000220240201170004_2024020117050024632.gz",
         66174,
         1731914799000
        ],
        [
         "dbfs:/FileStore/tables/R520000320240201110000_202402011105005819.gz",
         "R520000320240201110000_202402011105005819.gz",
         89914,
         1731914792000
        ],
        [
         "dbfs:/FileStore/tables/R520000320240201120008_2024020112050021076.gz",
         "R520000320240201120008_2024020112050021076.gz",
         139808,
         1731914786000
        ],
        [
         "dbfs:/FileStore/tables/R520000320240201130008_202402011305002964.gz",
         "R520000320240201130008_202402011305002964.gz",
         98294,
         1731914772000
        ],
        [
         "dbfs:/FileStore/tables/R520000320240201140006_2024020114050016558.gz",
         "R520000320240201140006_2024020114050016558.gz",
         86389,
         1731914765000
        ],
        [
         "dbfs:/FileStore/tables/R520000320240201150003_2024020115050030666.gz",
         "R520000320240201150003_2024020115050030666.gz",
         105,
         1731914759000
        ],
        [
         "dbfs:/FileStore/tables/R520000320240201160002_2024020116050012283.gz",
         "R520000320240201160002_2024020116050012283.gz",
         108693,
         1731914746000
        ],
        [
         "dbfs:/FileStore/tables/R520000320240201170000_2024020117050024632.gz",
         "R520000320240201170000_2024020117050024632.gz",
         90362,
         1731921727000
        ],
        [
         "dbfs:/FileStore/tables/Schema-1.csv",
         "Schema-1.csv",
         2093,
         1733914088000
        ],
        [
         "dbfs:/FileStore/tables/Schema-1.xlsx",
         "Schema-1.xlsx",
         11317,
         1733914044000
        ],
        [
         "dbfs:/FileStore/tables/Schema.csv",
         "Schema.csv",
         2093,
         1733825724000
        ],
        [
         "dbfs:/FileStore/tables/Schema.xlsx",
         "Schema.xlsx",
         11317,
         1733823865000
        ],
        [
         "dbfs:/FileStore/tables/data_.csv",
         "data_.csv",
         304,
         1740767690000
        ],
        [
         "dbfs:/FileStore/tables/drivers.json",
         "drivers.json",
         180812,
         1731581360000
        ],
        [
         "dbfs:/FileStore/tables/extracted_data-1.xlsx",
         "extracted_data-1.xlsx",
         11165,
         1731921737000
        ],
        [
         "dbfs:/FileStore/tables/extracted_data-2.xlsx",
         "extracted_data-2.xlsx",
         11165,
         1731923764000
        ],
        [
         "dbfs:/FileStore/tables/extracted_data.xlsx",
         "extracted_data.xlsx",
         11165,
         1731915955000
        ],
        [
         "dbfs:/FileStore/tables/pos123_accessKeys.csv",
         "pos123_accessKeys.csv",
         99,
         1733736395000
        ],
        [
         "dbfs:/FileStore/tables/prachi123_accessKeys.csv",
         "prachi123_accessKeys.csv",
         99,
         1733898617000
        ],
        [
         "dbfs:/FileStore/tables/sales_data.parquet",
         "sales_data.parquet",
         27539118,
         1732536444000
        ],
        [
         "dbfs:/FileStore/tables/testuser_accessKeys.csv",
         "testuser_accessKeys.csv",
         99,
         1733209590000
        ]
       ],
       "datasetInfos": [],
       "dbfsResultPath": null,
       "isJsonSchema": true,
       "metadata": {},
       "overflow": false,
       "plotOptions": {
        "customPlotOptions": {},
        "displayType": "table",
        "pivotAggregation": null,
        "pivotColumns": null,
        "xColumns": null,
        "yColumns": null
       },
       "removedWidgets": [],
       "schema": [
        {
         "metadata": "{}",
         "name": "path",
         "type": "\"string\""
        },
        {
         "metadata": "{}",
         "name": "name",
         "type": "\"string\""
        },
        {
         "metadata": "{}",
         "name": "size",
         "type": "\"long\""
        },
        {
         "metadata": "{}",
         "name": "modificationTime",
         "type": "\"long\""
        }
       ],
       "type": "table"
      }
     },
     "output_type": "display_data"
    }
   ],
   "source": [
    "display(dbutils.fs.ls(\"dbfs:/FileStore/tables/\"))\n"
   ]
  },
  {
   "cell_type": "code",
   "execution_count": 0,
   "metadata": {
    "application/vnd.databricks.v1+cell": {
     "cellMetadata": {},
     "inputWidgets": {},
     "nuid": "f2ea3282-b022-4726-85a7-aff5290a6257",
     "showTitle": false,
     "tableResultSettingsMap": {},
     "title": ""
    }
   },
   "outputs": [],
   "source": []
  },
  {
   "cell_type": "code",
   "execution_count": 0,
   "metadata": {
    "application/vnd.databricks.v1+cell": {
     "cellMetadata": {
      "byteLimit": 2048000,
      "rowLimit": 10000
     },
     "inputWidgets": {},
     "nuid": "bc05f4af-4b15-4abe-bc89-1390b19dad90",
     "showTitle": false,
     "tableResultSettingsMap": {},
     "title": ""
    }
   },
   "outputs": [
    {
     "output_type": "stream",
     "name": "stdout",
     "output_type": "stream",
     "text": [
      "+---+-------+\n| ID|   Name|\n+---+-------+\n|  1|  Alice|\n|  2|    Bob|\n|  3|Charlie|\n+---+-------+\n\n"
     ]
    }
   ],
   "source": [
    "from pyspark.sql import SparkSession\n",
    "\n",
    "spark = SparkSession.builder.appName(\"Example\").getOrCreate()\n",
    "data = [(1, 'Alice'), (2, 'Bob'), (3, 'Charlie')]\n",
    "columns = [\"ID\", \"Name\"]\n",
    "df = spark.createDataFrame(data, columns)\n",
    "df.show()\n"
   ]
  },
  {
   "cell_type": "code",
   "execution_count": 0,
   "metadata": {
    "application/vnd.databricks.v1+cell": {
     "cellMetadata": {
      "byteLimit": 2048000,
      "rowLimit": 10000
     },
     "inputWidgets": {},
     "nuid": "769e2a85-eaf6-41ba-9931-c7ddad8f1fe0",
     "showTitle": false,
     "tableResultSettingsMap": {},
     "title": ""
    }
   },
   "outputs": [],
   "source": [
    "#Reading CSV\n",
    "\n",
    "df = spark.read.csv(\"/FileStore/tables/data_.csv\", header=True, inferSchema=True)\n",
    "\n"
   ]
  },
  {
   "cell_type": "code",
   "execution_count": 0,
   "metadata": {
    "application/vnd.databricks.v1+cell": {
     "cellMetadata": {
      "byteLimit": 2048000,
      "rowLimit": 10000
     },
     "inputWidgets": {},
     "nuid": "e1a2065e-34c2-43a7-aac2-7c76a927d248",
     "showTitle": false,
     "tableResultSettingsMap": {},
     "title": ""
    }
   },
   "outputs": [],
   "source": [
    "df = spark.read.csv(\"dbfs:/FileStore/tables/data_.csv\", header=True, inferSchema=True)\n",
    "\n"
   ]
  },
  {
   "cell_type": "code",
   "execution_count": 0,
   "metadata": {
    "application/vnd.databricks.v1+cell": {
     "cellMetadata": {
      "byteLimit": 2048000,
      "rowLimit": 10000
     },
     "inputWidgets": {},
     "nuid": "04553f8a-8105-4b09-a1c0-a99414852fee",
     "showTitle": false,
     "tableResultSettingsMap": {},
     "title": ""
    }
   },
   "outputs": [
    {
     "output_type": "display_data",
     "data": {
      "text/html": [
       "<style scoped>\n",
       "  .table-result-container {\n",
       "    max-height: 300px;\n",
       "    overflow: auto;\n",
       "  }\n",
       "  table, th, td {\n",
       "    border: 1px solid black;\n",
       "    border-collapse: collapse;\n",
       "  }\n",
       "  th, td {\n",
       "    padding: 5px;\n",
       "  }\n",
       "  th {\n",
       "    text-align: left;\n",
       "  }\n",
       "</style><div class='table-result-container'><table class='table-result'><thead style='background-color: white'><tr><th>country</th><th>gdp</th><th>happiness_index</th></tr></thead><tbody><tr><td>United States</td><td>19294482071552</td><td>6.94</td></tr><tr><td>United Kingdom</td><td>2891615567872</td><td>7.16</td></tr><tr><td>France</td><td>2411255037952</td><td>6.66</td></tr><tr><td>Germany</td><td>3435817336832</td><td>7.07</td></tr><tr><td>Italy</td><td>1745433788416</td><td>6.38</td></tr><tr><td>Spain</td><td>1181205135360</td><td>6.4</td></tr><tr><td>Canada</td><td>1607402389504</td><td>7.23</td></tr><tr><td>Australia</td><td>1490967855104</td><td>7.22</td></tr><tr><td>Japan</td><td>4380756541440</td><td>5.87</td></tr><tr><td>China</td><td>14631844184064</td><td>5.12</td></tr></tbody></table></div>"
      ]
     },
     "metadata": {
      "application/vnd.databricks.v1+output": {
       "addedWidgets": {},
       "aggData": [],
       "aggError": "",
       "aggOverflow": false,
       "aggSchema": [],
       "aggSeriesLimitReached": false,
       "aggType": "",
       "arguments": {},
       "columnCustomDisplayInfos": {},
       "data": [
        [
         "United States",
         19294482071552,
         6.94
        ],
        [
         "United Kingdom",
         2891615567872,
         7.16
        ],
        [
         "France",
         2411255037952,
         6.66
        ],
        [
         "Germany",
         3435817336832,
         7.07
        ],
        [
         "Italy",
         1745433788416,
         6.38
        ],
        [
         "Spain",
         1181205135360,
         6.4
        ],
        [
         "Canada",
         1607402389504,
         7.23
        ],
        [
         "Australia",
         1490967855104,
         7.22
        ],
        [
         "Japan",
         4380756541440,
         5.87
        ],
        [
         "China",
         14631844184064,
         5.12
        ]
       ],
       "datasetInfos": [],
       "dbfsResultPath": null,
       "isJsonSchema": true,
       "metadata": {},
       "overflow": false,
       "plotOptions": {
        "customPlotOptions": {},
        "displayType": "table",
        "pivotAggregation": null,
        "pivotColumns": null,
        "xColumns": null,
        "yColumns": null
       },
       "removedWidgets": [],
       "schema": [
        {
         "metadata": "{}",
         "name": "country",
         "type": "\"string\""
        },
        {
         "metadata": "{}",
         "name": "gdp",
         "type": "\"long\""
        },
        {
         "metadata": "{}",
         "name": "happiness_index",
         "type": "\"double\""
        }
       ],
       "type": "table"
      }
     },
     "output_type": "display_data"
    }
   ],
   "source": [
    "df.display()"
   ]
  },
  {
   "cell_type": "code",
   "execution_count": 0,
   "metadata": {
    "application/vnd.databricks.v1+cell": {
     "cellMetadata": {
      "byteLimit": 2048000,
      "rowLimit": 10000
     },
     "inputWidgets": {},
     "nuid": "3ab3fa51-5926-44c3-afc7-962abc58512c",
     "showTitle": false,
     "tableResultSettingsMap": {},
     "title": ""
    }
   },
   "outputs": [],
   "source": [
    "df_filtered = df[df['happiness_index'] > 5]\n"
   ]
  },
  {
   "cell_type": "code",
   "execution_count": 0,
   "metadata": {
    "application/vnd.databricks.v1+cell": {
     "cellMetadata": {
      "byteLimit": 2048000,
      "rowLimit": 10000
     },
     "inputWidgets": {},
     "nuid": "3e189c87-4e86-4fc4-af1d-c213274375a9",
     "showTitle": false,
     "tableResultSettingsMap": {},
     "title": ""
    }
   },
   "outputs": [
    {
     "output_type": "display_data",
     "data": {
      "text/html": [
       "<style scoped>\n",
       "  .table-result-container {\n",
       "    max-height: 300px;\n",
       "    overflow: auto;\n",
       "  }\n",
       "  table, th, td {\n",
       "    border: 1px solid black;\n",
       "    border-collapse: collapse;\n",
       "  }\n",
       "  th, td {\n",
       "    padding: 5px;\n",
       "  }\n",
       "  th {\n",
       "    text-align: left;\n",
       "  }\n",
       "</style><div class='table-result-container'><table class='table-result'><thead style='background-color: white'><tr><th>country</th><th>gdp</th><th>happiness_index</th></tr></thead><tbody><tr><td>United States</td><td>19294482071552</td><td>6.94</td></tr><tr><td>United Kingdom</td><td>2891615567872</td><td>7.16</td></tr><tr><td>France</td><td>2411255037952</td><td>6.66</td></tr><tr><td>Germany</td><td>3435817336832</td><td>7.07</td></tr><tr><td>Italy</td><td>1745433788416</td><td>6.38</td></tr><tr><td>Spain</td><td>1181205135360</td><td>6.4</td></tr><tr><td>Canada</td><td>1607402389504</td><td>7.23</td></tr><tr><td>Australia</td><td>1490967855104</td><td>7.22</td></tr><tr><td>Japan</td><td>4380756541440</td><td>5.87</td></tr><tr><td>China</td><td>14631844184064</td><td>5.12</td></tr></tbody></table></div>"
      ]
     },
     "metadata": {
      "application/vnd.databricks.v1+output": {
       "addedWidgets": {},
       "aggData": [],
       "aggError": "",
       "aggOverflow": false,
       "aggSchema": [],
       "aggSeriesLimitReached": false,
       "aggType": "",
       "arguments": {},
       "columnCustomDisplayInfos": {},
       "data": [
        [
         "United States",
         19294482071552,
         6.94
        ],
        [
         "United Kingdom",
         2891615567872,
         7.16
        ],
        [
         "France",
         2411255037952,
         6.66
        ],
        [
         "Germany",
         3435817336832,
         7.07
        ],
        [
         "Italy",
         1745433788416,
         6.38
        ],
        [
         "Spain",
         1181205135360,
         6.4
        ],
        [
         "Canada",
         1607402389504,
         7.23
        ],
        [
         "Australia",
         1490967855104,
         7.22
        ],
        [
         "Japan",
         4380756541440,
         5.87
        ],
        [
         "China",
         14631844184064,
         5.12
        ]
       ],
       "datasetInfos": [],
       "dbfsResultPath": null,
       "isJsonSchema": true,
       "metadata": {},
       "overflow": false,
       "plotOptions": {
        "customPlotOptions": {},
        "displayType": "table",
        "pivotAggregation": null,
        "pivotColumns": null,
        "xColumns": null,
        "yColumns": null
       },
       "removedWidgets": [],
       "schema": [
        {
         "metadata": "{}",
         "name": "country",
         "type": "\"string\""
        },
        {
         "metadata": "{}",
         "name": "gdp",
         "type": "\"long\""
        },
        {
         "metadata": "{}",
         "name": "happiness_index",
         "type": "\"double\""
        }
       ],
       "type": "table"
      }
     },
     "output_type": "display_data"
    }
   ],
   "source": [
    "df_filtered.display()"
   ]
  },
  {
   "cell_type": "code",
   "execution_count": 0,
   "metadata": {
    "application/vnd.databricks.v1+cell": {
     "cellMetadata": {
      "byteLimit": 2048000,
      "rowLimit": 10000
     },
     "inputWidgets": {},
     "nuid": "ff3bde57-34d7-47ef-831d-fa963c5d36f8",
     "showTitle": false,
     "tableResultSettingsMap": {},
     "title": ""
    }
   },
   "outputs": [],
   "source": [
    "df_filtered = df.filter(df.happiness_index > 6)\n"
   ]
  },
  {
   "cell_type": "code",
   "execution_count": 0,
   "metadata": {
    "application/vnd.databricks.v1+cell": {
     "cellMetadata": {
      "byteLimit": 2048000,
      "rowLimit": 10000
     },
     "inputWidgets": {},
     "nuid": "b4a9dfbe-b659-4350-b274-e5970f092a81",
     "showTitle": false,
     "tableResultSettingsMap": {},
     "title": ""
    }
   },
   "outputs": [
    {
     "output_type": "stream",
     "name": "stdout",
     "output_type": "stream",
     "text": [
      "+--------------+--------------+---------------+\n|       country|           gdp|happiness_index|\n+--------------+--------------+---------------+\n| United States|19294482071552|           6.94|\n|United Kingdom| 2891615567872|           7.16|\n|        France| 2411255037952|           6.66|\n|       Germany| 3435817336832|           7.07|\n|         Italy| 1745433788416|           6.38|\n|         Spain| 1181205135360|            6.4|\n|        Canada| 1607402389504|           7.23|\n|     Australia| 1490967855104|           7.22|\n+--------------+--------------+---------------+\n\n"
     ]
    }
   ],
   "source": [
    "df_filtered.show()"
   ]
  },
  {
   "cell_type": "code",
   "execution_count": 0,
   "metadata": {
    "application/vnd.databricks.v1+cell": {
     "cellMetadata": {},
     "inputWidgets": {},
     "nuid": "95c4e4cb-3e4c-4fe5-8e9d-b164993a32bc",
     "showTitle": false,
     "tableResultSettingsMap": {},
     "title": ""
    }
   },
   "outputs": [],
   "source": []
  }
 ],
 "metadata": {
  "application/vnd.databricks.v1+notebook": {
   "computePreferences": null,
   "dashboards": [],
   "environmentMetadata": {
    "base_environment": "",
    "client": "1"
   },
   "language": "python",
   "notebookMetadata": {
    "pythonIndentUnit": 4
   },
   "notebookName": "Example",
   "widgets": {}
  }
 },
 "nbformat": 4,
 "nbformat_minor": 0
}
